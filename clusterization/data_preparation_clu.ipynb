{
 "cells": [
  {
   "cell_type": "code",
   "execution_count": 119,
   "metadata": {},
   "outputs": [],
   "source": [
    "import os\n",
    "from os import listdir\n",
    "from os.path import isfile, join\n",
    "import numpy as np\n",
    "import pandas as pd\n",
    "import seaborn as sns"
   ]
  },
  {
   "cell_type": "markdown",
   "metadata": {},
   "source": [
    "Использованные материалы:\n",
    "\n",
    "https://itnext.io/string-similarity-the-basic-know-your-algorithms-guide-3de3d7346227\n",
    "\n",
    "https://www.datacamp.com/community/tutorials/fuzzy-string-python"
   ]
  },
  {
   "cell_type": "code",
   "execution_count": 2,
   "metadata": {},
   "outputs": [],
   "source": [
    "def levenshtein_ratio_and_distance(s, t, ratio_calc = False):\n",
    "    rows = len(s)+1\n",
    "    cols = len(t)+1\n",
    "    distance = np.zeros((rows,cols),dtype = int)\n",
    "    for i in range(1, rows):\n",
    "        for k in range(1,cols):\n",
    "            distance[i][0] = i\n",
    "            distance[0][k] = k    \n",
    "    for col in range(1, cols):\n",
    "        for row in range(1, rows):\n",
    "            if s[row-1] == t[col-1]:\n",
    "                cost = 0 \n",
    "            else:\n",
    "                if ratio_calc == True:\n",
    "                    cost = 2\n",
    "                else:\n",
    "                    cost = 1\n",
    "            distance[row][col] = min(distance[row-1][col] + 1,      # Cost of deletions\n",
    "                                 distance[row][col-1] + 1,          # Cost of insertions\n",
    "                                 distance[row-1][col-1] + cost)     # Cost of substitutions\n",
    "    if ratio_calc == True:\n",
    "        Ratio = ((len(s)+len(t)) - distance[row][col]) / (len(s)+len(t))\n",
    "        return Ratio\n",
    "    else:\n",
    "        return \"The strings are {} edits away\".format(distance[row][col])"
   ]
  },
  {
   "cell_type": "markdown",
   "metadata": {},
   "source": [
    "### Исправление названий песен"
   ]
  },
  {
   "cell_type": "code",
   "execution_count": 3,
   "metadata": {},
   "outputs": [],
   "source": [
    "raw_names_tab = pd.read_excel('genres.xlsx')"
   ]
  },
  {
   "cell_type": "code",
   "execution_count": 4,
   "metadata": {},
   "outputs": [
    {
     "data": {
      "text/html": [
       "<div>\n",
       "<style scoped>\n",
       "    .dataframe tbody tr th:only-of-type {\n",
       "        vertical-align: middle;\n",
       "    }\n",
       "\n",
       "    .dataframe tbody tr th {\n",
       "        vertical-align: top;\n",
       "    }\n",
       "\n",
       "    .dataframe thead th {\n",
       "        text-align: right;\n",
       "    }\n",
       "</style>\n",
       "<table border=\"1\" class=\"dataframe\">\n",
       "  <thead>\n",
       "    <tr style=\"text-align: right;\">\n",
       "      <th></th>\n",
       "      <th>student</th>\n",
       "      <th>song</th>\n",
       "      <th>coarse_genre</th>\n",
       "      <th>genre1</th>\n",
       "      <th>genre2</th>\n",
       "      <th>genre3</th>\n",
       "    </tr>\n",
       "  </thead>\n",
       "  <tbody>\n",
       "    <tr>\n",
       "      <th>0</th>\n",
       "      <td>Алексей Замалутдинов</td>\n",
       "      <td>Je_veux-Zaz.mp3</td>\n",
       "      <td>Jazz</td>\n",
       "      <td>french jazz</td>\n",
       "      <td>Chanson</td>\n",
       "      <td>NaN</td>\n",
       "    </tr>\n",
       "    <tr>\n",
       "      <th>1</th>\n",
       "      <td>Алексей Замалутдинов</td>\n",
       "      <td>У_школьного_порога-Геннадий_Белов.mp3</td>\n",
       "      <td>Pop</td>\n",
       "      <td>Classic russian pop</td>\n",
       "      <td>NaN</td>\n",
       "      <td>NaN</td>\n",
       "    </tr>\n",
       "    <tr>\n",
       "      <th>2</th>\n",
       "      <td>Алексей Замалутдинов</td>\n",
       "      <td>Птица_счастья_выбери_меня-Гнатюк.mp3</td>\n",
       "      <td>Pop</td>\n",
       "      <td>Classic russian pop</td>\n",
       "      <td>NaN</td>\n",
       "      <td>NaN</td>\n",
       "    </tr>\n",
       "    <tr>\n",
       "      <th>3</th>\n",
       "      <td>Алексей Замалутдинов</td>\n",
       "      <td>Дрозды-Геннадий_Белов.mp3</td>\n",
       "      <td>Pop</td>\n",
       "      <td>Classic russian pop</td>\n",
       "      <td>NaN</td>\n",
       "      <td>NaN</td>\n",
       "    </tr>\n",
       "    <tr>\n",
       "      <th>4</th>\n",
       "      <td>Алексей Замалутдинов</td>\n",
       "      <td>Белый теплоход-Синяя_птица.mp3</td>\n",
       "      <td>Pop</td>\n",
       "      <td>Classic russian pop</td>\n",
       "      <td>Chanson</td>\n",
       "      <td>NaN</td>\n",
       "    </tr>\n",
       "  </tbody>\n",
       "</table>\n",
       "</div>"
      ],
      "text/plain": [
       "                student                                   song coarse_genre  \\\n",
       "0  Алексей Замалутдинов                        Je_veux-Zaz.mp3         Jazz   \n",
       "1  Алексей Замалутдинов  У_школьного_порога-Геннадий_Белов.mp3          Pop   \n",
       "2  Алексей Замалутдинов   Птица_счастья_выбери_меня-Гнатюк.mp3          Pop   \n",
       "3  Алексей Замалутдинов              Дрозды-Геннадий_Белов.mp3          Pop   \n",
       "4  Алексей Замалутдинов         Белый теплоход-Синяя_птица.mp3          Pop   \n",
       "\n",
       "                genre1   genre2 genre3  \n",
       "0          french jazz  Chanson    NaN  \n",
       "1  Classic russian pop      NaN    NaN  \n",
       "2  Classic russian pop      NaN    NaN  \n",
       "3  Classic russian pop      NaN    NaN  \n",
       "4  Classic russian pop  Chanson    NaN  "
      ]
     },
     "execution_count": 4,
     "metadata": {},
     "output_type": "execute_result"
    }
   ],
   "source": [
    "raw_names_tab.head()"
   ]
  },
  {
   "cell_type": "code",
   "execution_count": 5,
   "metadata": {},
   "outputs": [],
   "source": [
    "names_from_data = [f for f in listdir('./data/') if isfile(join('./data/', f))]"
   ]
  },
  {
   "cell_type": "code",
   "execution_count": 6,
   "metadata": {},
   "outputs": [],
   "source": [
    "names_from_xls = list(raw_names_tab.song)"
   ]
  },
  {
   "cell_type": "markdown",
   "metadata": {},
   "source": [
    "Теперь у нас есть два листа с названиями песен"
   ]
  },
  {
   "cell_type": "code",
   "execution_count": 7,
   "metadata": {},
   "outputs": [],
   "source": [
    "names_from_data.sort()\n",
    "names_from_xls.sort()"
   ]
  },
  {
   "cell_type": "markdown",
   "metadata": {},
   "source": [
    "Да, тут получился очень неэффективный кусок кода"
   ]
  },
  {
   "cell_type": "code",
   "execution_count": 8,
   "metadata": {
    "scrolled": false
   },
   "outputs": [],
   "source": [
    "new_name_list_from_xls = []\n",
    "new_name_list_from_data = []\n",
    "ratio_list = []\n",
    "for name_xls in names_from_xls:\n",
    "    max_ratio = 0\n",
    "    max_ratio_xls_name = False\n",
    "    max_ratio_data_name = False\n",
    "    for name_data in names_from_data:\n",
    "        ratio = levenshtein_ratio_and_distance(name_xls, name_data, ratio_calc=True)\n",
    "        if ratio > 0.80:\n",
    "            if ratio > max_ratio:\n",
    "                max_ratio = ratio\n",
    "                max_ratio_xls_name = name_xls\n",
    "                max_ratio_data_name = name_data\n",
    "            break\n",
    "            \n",
    "    if max_ratio_data_name and max_ratio_xls_name:\n",
    "        new_name_list_from_xls.append(max_ratio_xls_name)\n",
    "        new_name_list_from_data.append(max_ratio_data_name)\n",
    "        ratio_list.append(max_ratio)  "
   ]
  },
  {
   "cell_type": "code",
   "execution_count": 9,
   "metadata": {},
   "outputs": [],
   "source": [
    "data = pd.DataFrame({'from_xls': new_name_list_from_xls, 'from_data': new_name_list_from_data, \n",
    "                     'ratio' : ratio_list})"
   ]
  },
  {
   "cell_type": "code",
   "execution_count": 10,
   "metadata": {},
   "outputs": [],
   "source": [
    "genres_data_sorted = raw_names_tab.sort_values('song', axis=0, ascending=True)"
   ]
  },
  {
   "cell_type": "code",
   "execution_count": 11,
   "metadata": {},
   "outputs": [],
   "source": [
    "data_sorted = data.sort_values('from_xls', axis=0, ascending=True)"
   ]
  },
  {
   "cell_type": "code",
   "execution_count": 12,
   "metadata": {},
   "outputs": [],
   "source": [
    "genres_data_sorted.index = list(genres_data_sorted.song)\n",
    "data_sorted.index = list(data_sorted.from_xls)"
   ]
  },
  {
   "cell_type": "code",
   "execution_count": 13,
   "metadata": {},
   "outputs": [],
   "source": [
    "new_data = pd.concat([genres_data_sorted, data_sorted], axis=1, sort=True)"
   ]
  },
  {
   "cell_type": "code",
   "execution_count": 14,
   "metadata": {},
   "outputs": [],
   "source": [
    "new_data.dropna(subset = [\"from_data\"], inplace=True)"
   ]
  },
  {
   "cell_type": "code",
   "execution_count": 15,
   "metadata": {},
   "outputs": [
    {
     "data": {
      "text/html": [
       "<div>\n",
       "<style scoped>\n",
       "    .dataframe tbody tr th:only-of-type {\n",
       "        vertical-align: middle;\n",
       "    }\n",
       "\n",
       "    .dataframe tbody tr th {\n",
       "        vertical-align: top;\n",
       "    }\n",
       "\n",
       "    .dataframe thead th {\n",
       "        text-align: right;\n",
       "    }\n",
       "</style>\n",
       "<table border=\"1\" class=\"dataframe\">\n",
       "  <thead>\n",
       "    <tr style=\"text-align: right;\">\n",
       "      <th></th>\n",
       "      <th>student</th>\n",
       "      <th>song</th>\n",
       "      <th>coarse_genre</th>\n",
       "      <th>genre1</th>\n",
       "      <th>genre2</th>\n",
       "      <th>genre3</th>\n",
       "      <th>from_xls</th>\n",
       "      <th>from_data</th>\n",
       "      <th>ratio</th>\n",
       "    </tr>\n",
       "  </thead>\n",
       "  <tbody>\n",
       "    <tr>\n",
       "      <th>7Horse_-_Answer_the_Bell</th>\n",
       "      <td>Шемякина Аня</td>\n",
       "      <td>7Horse_-_Answer_the_Bell</td>\n",
       "      <td>Rock</td>\n",
       "      <td>Blues Rock</td>\n",
       "      <td>NaN</td>\n",
       "      <td>NaN</td>\n",
       "      <td>7Horse_-_Answer_the_Bell</td>\n",
       "      <td>7Horse_-_Answer_the_Bell.mp3</td>\n",
       "      <td>0.923077</td>\n",
       "    </tr>\n",
       "    <tr>\n",
       "      <th>A_Simple_Life-Brian_Crain</th>\n",
       "      <td>Людмила_Проценко</td>\n",
       "      <td>A_Simple_Life-Brian_Crain</td>\n",
       "      <td>classic</td>\n",
       "      <td>neo-classical</td>\n",
       "      <td>new age piano</td>\n",
       "      <td>NaN</td>\n",
       "      <td>A_Simple_Life-Brian_Crain</td>\n",
       "      <td>A_Simple_Life-Brian_Crain.mp3</td>\n",
       "      <td>0.925926</td>\n",
       "    </tr>\n",
       "    <tr>\n",
       "      <th>Adagio_in_G_Minor-Albinoni</th>\n",
       "      <td>Никанорова Даша</td>\n",
       "      <td>Adagio_in_G_Minor-Albinoni</td>\n",
       "      <td>Classic</td>\n",
       "      <td>Instrumental</td>\n",
       "      <td>NaN</td>\n",
       "      <td>NaN</td>\n",
       "      <td>Adagio_in_G_Minor-Albinoni</td>\n",
       "      <td>Adagio_in_G_Minor-Albinoni.mp3</td>\n",
       "      <td>0.928571</td>\n",
       "    </tr>\n",
       "    <tr>\n",
       "      <th>Age_Atomic-Solar_Bears</th>\n",
       "      <td>Паша_Дерябин</td>\n",
       "      <td>Age_Atomic-Solar_Bears</td>\n",
       "      <td>electro</td>\n",
       "      <td>Synthwave</td>\n",
       "      <td>NaN</td>\n",
       "      <td>NaN</td>\n",
       "      <td>Age_Atomic-Solar_Bears</td>\n",
       "      <td>Age_Atomic-Solar_Bears.mp3</td>\n",
       "      <td>0.916667</td>\n",
       "    </tr>\n",
       "    <tr>\n",
       "      <th>Agnus_Dei-Enigma</th>\n",
       "      <td>Darya Khaleneva</td>\n",
       "      <td>Agnus_Dei-Enigma</td>\n",
       "      <td>new_age</td>\n",
       "      <td>downtempo</td>\n",
       "      <td>ambient</td>\n",
       "      <td>NaN</td>\n",
       "      <td>Agnus_Dei-Enigma</td>\n",
       "      <td>Agnus_Dei-Enigma.mp3</td>\n",
       "      <td>0.888889</td>\n",
       "    </tr>\n",
       "    <tr>\n",
       "      <th>...</th>\n",
       "      <td>...</td>\n",
       "      <td>...</td>\n",
       "      <td>...</td>\n",
       "      <td>...</td>\n",
       "      <td>...</td>\n",
       "      <td>...</td>\n",
       "      <td>...</td>\n",
       "      <td>...</td>\n",
       "      <td>...</td>\n",
       "    </tr>\n",
       "    <tr>\n",
       "      <th>Электрослабость-Терентий</th>\n",
       "      <td>Aleksei Zverev</td>\n",
       "      <td>Электрослабость-Терентий</td>\n",
       "      <td>rock</td>\n",
       "      <td>punk</td>\n",
       "      <td>NaN</td>\n",
       "      <td>NaN</td>\n",
       "      <td>Электрослабость-Терентий</td>\n",
       "      <td>Электрослабость-Терентий.mp3</td>\n",
       "      <td>0.923077</td>\n",
       "    </tr>\n",
       "    <tr>\n",
       "      <th>Я_говорю_тебе_да-Зоя_Ященко_и_группа_Белая_Гвардия.mp3</th>\n",
       "      <td>Данил_Литвинов</td>\n",
       "      <td>Я_говорю_тебе_да-Зоя_Ященко_и_группа_Белая_Гва...</td>\n",
       "      <td>Art_song</td>\n",
       "      <td>Indie_Rock</td>\n",
       "      <td>NaN</td>\n",
       "      <td>NaN</td>\n",
       "      <td>Я_говорю_тебе_да-Зоя_Ященко_и_группа_Белая_Гва...</td>\n",
       "      <td>Я_говорю_тебе_да-Зоя_Ященко_и_группа_Белая_Гва...</td>\n",
       "      <td>1.000000</td>\n",
       "    </tr>\n",
       "    <tr>\n",
       "      <th>Я_не_один-Эм_Калинин.mp3</th>\n",
       "      <td>Данил_Литвинов</td>\n",
       "      <td>Я_не_один-Эм_Калинин.mp3</td>\n",
       "      <td>Indie</td>\n",
       "      <td>Hip-Hop</td>\n",
       "      <td>NaN</td>\n",
       "      <td>NaN</td>\n",
       "      <td>Я_не_один-Эм_Калинин.mp3</td>\n",
       "      <td>Я_не_один-Эм_Калинин.mp3</td>\n",
       "      <td>1.000000</td>\n",
       "    </tr>\n",
       "    <tr>\n",
       "      <th>Я_так_соскучился-Порнофильмы.mp3</th>\n",
       "      <td>Данил_Литвинов</td>\n",
       "      <td>Я_так_соскучился-Порнофильмы.mp3</td>\n",
       "      <td>Rock</td>\n",
       "      <td>Punk_Rock</td>\n",
       "      <td>NaN</td>\n",
       "      <td>NaN</td>\n",
       "      <td>Я_так_соскучился-Порнофильмы.mp3</td>\n",
       "      <td>Я_так_соскучился-Порнофильмы.mp3</td>\n",
       "      <td>1.000000</td>\n",
       "    </tr>\n",
       "    <tr>\n",
       "      <th>Я_убью_себя-Слава_КПСС.mp3</th>\n",
       "      <td>Роман_Кругликов</td>\n",
       "      <td>Я_убью_себя-Слава_КПСС.mp3</td>\n",
       "      <td>Hip-hop</td>\n",
       "      <td>Rap</td>\n",
       "      <td>Dance</td>\n",
       "      <td>NaN</td>\n",
       "      <td>Я_убью_себя-Слава_КПСС.mp3</td>\n",
       "      <td>Я_убью_себя-Слава_КПСС.mp3</td>\n",
       "      <td>1.000000</td>\n",
       "    </tr>\n",
       "  </tbody>\n",
       "</table>\n",
       "<p>327 rows × 9 columns</p>\n",
       "</div>"
      ],
      "text/plain": [
       "                                                             student  \\\n",
       "7Horse_-_Answer_the_Bell                                Шемякина Аня   \n",
       "A_Simple_Life-Brian_Crain                           Людмила_Проценко   \n",
       "Adagio_in_G_Minor-Albinoni                           Никанорова Даша   \n",
       "Age_Atomic-Solar_Bears                                  Паша_Дерябин   \n",
       "Agnus_Dei-Enigma                                     Darya Khaleneva   \n",
       "...                                                              ...   \n",
       "Электрослабость-Терентий                              Aleksei Zverev   \n",
       "Я_говорю_тебе_да-Зоя_Ященко_и_группа_Белая_Гвар...    Данил_Литвинов   \n",
       "Я_не_один-Эм_Калинин.mp3                              Данил_Литвинов   \n",
       "Я_так_соскучился-Порнофильмы.mp3                      Данил_Литвинов   \n",
       "Я_убью_себя-Слава_КПСС.mp3                           Роман_Кругликов   \n",
       "\n",
       "                                                                                                 song  \\\n",
       "7Horse_-_Answer_the_Bell                                                     7Horse_-_Answer_the_Bell   \n",
       "A_Simple_Life-Brian_Crain                                                   A_Simple_Life-Brian_Crain   \n",
       "Adagio_in_G_Minor-Albinoni                                                 Adagio_in_G_Minor-Albinoni   \n",
       "Age_Atomic-Solar_Bears                                                         Age_Atomic-Solar_Bears   \n",
       "Agnus_Dei-Enigma                                                                     Agnus_Dei-Enigma   \n",
       "...                                                                                               ...   \n",
       "Электрослабость-Терентий                                                     Электрослабость-Терентий   \n",
       "Я_говорю_тебе_да-Зоя_Ященко_и_группа_Белая_Гвар...  Я_говорю_тебе_да-Зоя_Ященко_и_группа_Белая_Гва...   \n",
       "Я_не_один-Эм_Калинин.mp3                                                     Я_не_один-Эм_Калинин.mp3   \n",
       "Я_так_соскучился-Порнофильмы.mp3                                     Я_так_соскучился-Порнофильмы.mp3   \n",
       "Я_убью_себя-Слава_КПСС.mp3                                                 Я_убью_себя-Слава_КПСС.mp3   \n",
       "\n",
       "                                                   coarse_genre  \\\n",
       "7Horse_-_Answer_the_Bell                                   Rock   \n",
       "A_Simple_Life-Brian_Crain                               classic   \n",
       "Adagio_in_G_Minor-Albinoni                              Classic   \n",
       "Age_Atomic-Solar_Bears                                  electro   \n",
       "Agnus_Dei-Enigma                                        new_age   \n",
       "...                                                         ...   \n",
       "Электрослабость-Терентий                                   rock   \n",
       "Я_говорю_тебе_да-Зоя_Ященко_и_группа_Белая_Гвар...     Art_song   \n",
       "Я_не_один-Эм_Калинин.mp3                                  Indie   \n",
       "Я_так_соскучился-Порнофильмы.mp3                           Rock   \n",
       "Я_убью_себя-Слава_КПСС.mp3                              Hip-hop   \n",
       "\n",
       "                                                           genre1  \\\n",
       "7Horse_-_Answer_the_Bell                               Blues Rock   \n",
       "A_Simple_Life-Brian_Crain                           neo-classical   \n",
       "Adagio_in_G_Minor-Albinoni                           Instrumental   \n",
       "Age_Atomic-Solar_Bears                                  Synthwave   \n",
       "Agnus_Dei-Enigma                                        downtempo   \n",
       "...                                                           ...   \n",
       "Электрослабость-Терентий                                     punk   \n",
       "Я_говорю_тебе_да-Зоя_Ященко_и_группа_Белая_Гвар...     Indie_Rock   \n",
       "Я_не_один-Эм_Калинин.mp3                                  Hip-Hop   \n",
       "Я_так_соскучился-Порнофильмы.mp3                        Punk_Rock   \n",
       "Я_убью_себя-Слава_КПСС.mp3                                    Rap   \n",
       "\n",
       "                                                           genre2 genre3  \\\n",
       "7Horse_-_Answer_the_Bell                                      NaN    NaN   \n",
       "A_Simple_Life-Brian_Crain                           new age piano    NaN   \n",
       "Adagio_in_G_Minor-Albinoni                                    NaN    NaN   \n",
       "Age_Atomic-Solar_Bears                                        NaN    NaN   \n",
       "Agnus_Dei-Enigma                                          ambient    NaN   \n",
       "...                                                           ...    ...   \n",
       "Электрослабость-Терентий                                      NaN    NaN   \n",
       "Я_говорю_тебе_да-Зоя_Ященко_и_группа_Белая_Гвар...            NaN    NaN   \n",
       "Я_не_один-Эм_Калинин.mp3                                      NaN    NaN   \n",
       "Я_так_соскучился-Порнофильмы.mp3                              NaN    NaN   \n",
       "Я_убью_себя-Слава_КПСС.mp3                                  Dance    NaN   \n",
       "\n",
       "                                                                                             from_xls  \\\n",
       "7Horse_-_Answer_the_Bell                                                     7Horse_-_Answer_the_Bell   \n",
       "A_Simple_Life-Brian_Crain                                                   A_Simple_Life-Brian_Crain   \n",
       "Adagio_in_G_Minor-Albinoni                                                 Adagio_in_G_Minor-Albinoni   \n",
       "Age_Atomic-Solar_Bears                                                         Age_Atomic-Solar_Bears   \n",
       "Agnus_Dei-Enigma                                                                     Agnus_Dei-Enigma   \n",
       "...                                                                                               ...   \n",
       "Электрослабость-Терентий                                                     Электрослабость-Терентий   \n",
       "Я_говорю_тебе_да-Зоя_Ященко_и_группа_Белая_Гвар...  Я_говорю_тебе_да-Зоя_Ященко_и_группа_Белая_Гва...   \n",
       "Я_не_один-Эм_Калинин.mp3                                                     Я_не_один-Эм_Калинин.mp3   \n",
       "Я_так_соскучился-Порнофильмы.mp3                                     Я_так_соскучился-Порнофильмы.mp3   \n",
       "Я_убью_себя-Слава_КПСС.mp3                                                 Я_убью_себя-Слава_КПСС.mp3   \n",
       "\n",
       "                                                                                            from_data  \\\n",
       "7Horse_-_Answer_the_Bell                                                 7Horse_-_Answer_the_Bell.mp3   \n",
       "A_Simple_Life-Brian_Crain                                               A_Simple_Life-Brian_Crain.mp3   \n",
       "Adagio_in_G_Minor-Albinoni                                             Adagio_in_G_Minor-Albinoni.mp3   \n",
       "Age_Atomic-Solar_Bears                                                     Age_Atomic-Solar_Bears.mp3   \n",
       "Agnus_Dei-Enigma                                                                 Agnus_Dei-Enigma.mp3   \n",
       "...                                                                                               ...   \n",
       "Электрослабость-Терентий                                                 Электрослабость-Терентий.mp3   \n",
       "Я_говорю_тебе_да-Зоя_Ященко_и_группа_Белая_Гвар...  Я_говорю_тебе_да-Зоя_Ященко_и_группа_Белая_Гва...   \n",
       "Я_не_один-Эм_Калинин.mp3                                                     Я_не_один-Эм_Калинин.mp3   \n",
       "Я_так_соскучился-Порнофильмы.mp3                                     Я_так_соскучился-Порнофильмы.mp3   \n",
       "Я_убью_себя-Слава_КПСС.mp3                                                 Я_убью_себя-Слава_КПСС.mp3   \n",
       "\n",
       "                                                       ratio  \n",
       "7Horse_-_Answer_the_Bell                            0.923077  \n",
       "A_Simple_Life-Brian_Crain                           0.925926  \n",
       "Adagio_in_G_Minor-Albinoni                          0.928571  \n",
       "Age_Atomic-Solar_Bears                              0.916667  \n",
       "Agnus_Dei-Enigma                                    0.888889  \n",
       "...                                                      ...  \n",
       "Электрослабость-Терентий                            0.923077  \n",
       "Я_говорю_тебе_да-Зоя_Ященко_и_группа_Белая_Гвар...  1.000000  \n",
       "Я_не_один-Эм_Калинин.mp3                            1.000000  \n",
       "Я_так_соскучился-Порнофильмы.mp3                    1.000000  \n",
       "Я_убью_себя-Слава_КПСС.mp3                          1.000000  \n",
       "\n",
       "[327 rows x 9 columns]"
      ]
     },
     "execution_count": 15,
     "metadata": {},
     "output_type": "execute_result"
    }
   ],
   "source": [
    "new_data"
   ]
  },
  {
   "cell_type": "markdown",
   "metadata": {},
   "source": [
    "Теперь нужно почистить датасет, а также убрать пробелы из названий песен"
   ]
  },
  {
   "cell_type": "code",
   "execution_count": 50,
   "metadata": {},
   "outputs": [],
   "source": [
    "fixed_names = []\n",
    "for i in list(new_data.from_data):\n",
    "    if \" \" in i:\n",
    "        i = i.replace(' ', '_')\n",
    "    if ',' in i:\n",
    "        i = i.replace(',', '')\n",
    "    if '___' in i:\n",
    "        i = i.replace('___', '_')\n",
    "    if '__' in i:\n",
    "        i = i.replace('__', '_')\n",
    "    if '_!' in i:\n",
    "        i = i.replace('_!', '!')\n",
    "    if '(!)' in i:\n",
    "        i = i.replace('(!)', '!')\n",
    "    if '_-_' in i:\n",
    "        i = i.replace('_-_', '-')\n",
    "    if '_-' in i:\n",
    "        i = i.replace('_-_', '-')\n",
    "    if '-' in i:\n",
    "        i = i.replace('-', '--')\n",
    "    if '+' in i:\n",
    "        i = i.replace('+', '_')\n",
    "    if '_.' in i:\n",
    "        i = i.replace('_.', '.')\n",
    "    if 'feat._' in i:\n",
    "        i = i.replace('feat._', 'feat_')\n",
    "    if 'ft._' in i:\n",
    "        i = i.replace('ft._', 'feat_')"
   ]
  },
  {
   "cell_type": "code",
   "execution_count": 52,
   "metadata": {},
   "outputs": [],
   "source": [
    "d_fixed = {'fixed_names': fixed_names}"
   ]
  },
  {
   "cell_type": "code",
   "execution_count": 53,
   "metadata": {},
   "outputs": [],
   "source": [
    "data_fixed = pd.DataFrame(d_fixed)"
   ]
  },
  {
   "cell_type": "code",
   "execution_count": 56,
   "metadata": {},
   "outputs": [],
   "source": [
    "data_fixed.index = list(data_sorted.from_xls)"
   ]
  },
  {
   "cell_type": "code",
   "execution_count": 57,
   "metadata": {},
   "outputs": [],
   "source": [
    "fixed = pd.concat([new_data, data_fixed], axis=1, sort=True)"
   ]
  },
  {
   "cell_type": "code",
   "execution_count": 60,
   "metadata": {},
   "outputs": [],
   "source": [
    "fixed = fixed.drop(['student', 'song', 'from_xls', 'ratio'], axis=1)"
   ]
  },
  {
   "cell_type": "code",
   "execution_count": 62,
   "metadata": {},
   "outputs": [
    {
     "data": {
      "text/html": [
       "<div>\n",
       "<style scoped>\n",
       "    .dataframe tbody tr th:only-of-type {\n",
       "        vertical-align: middle;\n",
       "    }\n",
       "\n",
       "    .dataframe tbody tr th {\n",
       "        vertical-align: top;\n",
       "    }\n",
       "\n",
       "    .dataframe thead th {\n",
       "        text-align: right;\n",
       "    }\n",
       "</style>\n",
       "<table border=\"1\" class=\"dataframe\">\n",
       "  <thead>\n",
       "    <tr style=\"text-align: right;\">\n",
       "      <th></th>\n",
       "      <th>coarse_genre</th>\n",
       "      <th>genre1</th>\n",
       "      <th>genre2</th>\n",
       "      <th>genre3</th>\n",
       "      <th>from_data</th>\n",
       "      <th>fixed_names</th>\n",
       "    </tr>\n",
       "  </thead>\n",
       "  <tbody>\n",
       "    <tr>\n",
       "      <th>7Horse_-_Answer_the_Bell</th>\n",
       "      <td>Rock</td>\n",
       "      <td>Blues Rock</td>\n",
       "      <td>NaN</td>\n",
       "      <td>NaN</td>\n",
       "      <td>7Horse_-_Answer_the_Bell.mp3</td>\n",
       "      <td>7Horse--Answer_the_Bell.mp3</td>\n",
       "    </tr>\n",
       "    <tr>\n",
       "      <th>A_Simple_Life-Brian_Crain</th>\n",
       "      <td>classic</td>\n",
       "      <td>neo-classical</td>\n",
       "      <td>new age piano</td>\n",
       "      <td>NaN</td>\n",
       "      <td>A_Simple_Life-Brian_Crain.mp3</td>\n",
       "      <td>A_Simple_Life--Brian_Crain.mp3</td>\n",
       "    </tr>\n",
       "    <tr>\n",
       "      <th>Adagio_in_G_Minor-Albinoni</th>\n",
       "      <td>Classic</td>\n",
       "      <td>Instrumental</td>\n",
       "      <td>NaN</td>\n",
       "      <td>NaN</td>\n",
       "      <td>Adagio_in_G_Minor-Albinoni.mp3</td>\n",
       "      <td>Adagio_in_G_Minor--Albinoni.mp3</td>\n",
       "    </tr>\n",
       "    <tr>\n",
       "      <th>Age_Atomic-Solar_Bears</th>\n",
       "      <td>electro</td>\n",
       "      <td>Synthwave</td>\n",
       "      <td>NaN</td>\n",
       "      <td>NaN</td>\n",
       "      <td>Age_Atomic-Solar_Bears.mp3</td>\n",
       "      <td>Age_Atomic--Solar_Bears.mp3</td>\n",
       "    </tr>\n",
       "    <tr>\n",
       "      <th>Agnus_Dei-Enigma</th>\n",
       "      <td>new_age</td>\n",
       "      <td>downtempo</td>\n",
       "      <td>ambient</td>\n",
       "      <td>NaN</td>\n",
       "      <td>Agnus_Dei-Enigma.mp3</td>\n",
       "      <td>Agnus_Dei--Enigma.mp3</td>\n",
       "    </tr>\n",
       "  </tbody>\n",
       "</table>\n",
       "</div>"
      ],
      "text/plain": [
       "                           coarse_genre         genre1         genre2 genre3  \\\n",
       "7Horse_-_Answer_the_Bell           Rock     Blues Rock            NaN    NaN   \n",
       "A_Simple_Life-Brian_Crain       classic  neo-classical  new age piano    NaN   \n",
       "Adagio_in_G_Minor-Albinoni      Classic   Instrumental            NaN    NaN   \n",
       "Age_Atomic-Solar_Bears          electro      Synthwave            NaN    NaN   \n",
       "Agnus_Dei-Enigma                new_age      downtempo        ambient    NaN   \n",
       "\n",
       "                                                 from_data  \\\n",
       "7Horse_-_Answer_the_Bell      7Horse_-_Answer_the_Bell.mp3   \n",
       "A_Simple_Life-Brian_Crain    A_Simple_Life-Brian_Crain.mp3   \n",
       "Adagio_in_G_Minor-Albinoni  Adagio_in_G_Minor-Albinoni.mp3   \n",
       "Age_Atomic-Solar_Bears          Age_Atomic-Solar_Bears.mp3   \n",
       "Agnus_Dei-Enigma                      Agnus_Dei-Enigma.mp3   \n",
       "\n",
       "                                                fixed_names  \n",
       "7Horse_-_Answer_the_Bell        7Horse--Answer_the_Bell.mp3  \n",
       "A_Simple_Life-Brian_Crain    A_Simple_Life--Brian_Crain.mp3  \n",
       "Adagio_in_G_Minor-Albinoni  Adagio_in_G_Minor--Albinoni.mp3  \n",
       "Age_Atomic-Solar_Bears          Age_Atomic--Solar_Bears.mp3  \n",
       "Agnus_Dei-Enigma                      Agnus_Dei--Enigma.mp3  "
      ]
     },
     "execution_count": 62,
     "metadata": {},
     "output_type": "execute_result"
    }
   ],
   "source": [
    "fixed.head()"
   ]
  },
  {
   "cell_type": "markdown",
   "metadata": {},
   "source": [
    "Теперь у нас есть полноценный датасет с нормальными названиями, но названия в папке всё ещё кривые. "
   ]
  },
  {
   "cell_type": "code",
   "execution_count": 104,
   "metadata": {},
   "outputs": [],
   "source": [
    "for song in list(fixed.from_data):\n",
    "    old_name = './data/' + song\n",
    "    new_name = './data/' + list(fixed.query('from_data == @song').fixed_names)[0]\n",
    "    os.rename(old_name, new_name)"
   ]
  },
  {
   "cell_type": "markdown",
   "metadata": {},
   "source": [
    "В папке './data' теперь содержатся песни с нормальным названием"
   ]
  },
  {
   "cell_type": "code",
   "execution_count": 106,
   "metadata": {},
   "outputs": [],
   "source": [
    "fixed = fixed.drop('from_data', axis=1)"
   ]
  },
  {
   "cell_type": "code",
   "execution_count": 108,
   "metadata": {},
   "outputs": [],
   "source": [
    "fixed.reset_index(drop=True, inplace=True)"
   ]
  },
  {
   "cell_type": "code",
   "execution_count": 110,
   "metadata": {},
   "outputs": [],
   "source": [
    "fixed = fixed.drop(['genre1', 'genre2', 'genre3'], axis=1)"
   ]
  },
  {
   "cell_type": "code",
   "execution_count": 111,
   "metadata": {},
   "outputs": [
    {
     "data": {
      "text/html": [
       "<div>\n",
       "<style scoped>\n",
       "    .dataframe tbody tr th:only-of-type {\n",
       "        vertical-align: middle;\n",
       "    }\n",
       "\n",
       "    .dataframe tbody tr th {\n",
       "        vertical-align: top;\n",
       "    }\n",
       "\n",
       "    .dataframe thead th {\n",
       "        text-align: right;\n",
       "    }\n",
       "</style>\n",
       "<table border=\"1\" class=\"dataframe\">\n",
       "  <thead>\n",
       "    <tr style=\"text-align: right;\">\n",
       "      <th></th>\n",
       "      <th>coarse_genre</th>\n",
       "      <th>fixed_names</th>\n",
       "    </tr>\n",
       "  </thead>\n",
       "  <tbody>\n",
       "    <tr>\n",
       "      <th>0</th>\n",
       "      <td>Rock</td>\n",
       "      <td>7Horse--Answer_the_Bell.mp3</td>\n",
       "    </tr>\n",
       "    <tr>\n",
       "      <th>1</th>\n",
       "      <td>classic</td>\n",
       "      <td>A_Simple_Life--Brian_Crain.mp3</td>\n",
       "    </tr>\n",
       "    <tr>\n",
       "      <th>2</th>\n",
       "      <td>Classic</td>\n",
       "      <td>Adagio_in_G_Minor--Albinoni.mp3</td>\n",
       "    </tr>\n",
       "    <tr>\n",
       "      <th>3</th>\n",
       "      <td>electro</td>\n",
       "      <td>Age_Atomic--Solar_Bears.mp3</td>\n",
       "    </tr>\n",
       "    <tr>\n",
       "      <th>4</th>\n",
       "      <td>new_age</td>\n",
       "      <td>Agnus_Dei--Enigma.mp3</td>\n",
       "    </tr>\n",
       "  </tbody>\n",
       "</table>\n",
       "</div>"
      ],
      "text/plain": [
       "  coarse_genre                      fixed_names\n",
       "0         Rock      7Horse--Answer_the_Bell.mp3\n",
       "1      classic   A_Simple_Life--Brian_Crain.mp3\n",
       "2      Classic  Adagio_in_G_Minor--Albinoni.mp3\n",
       "3      electro      Age_Atomic--Solar_Bears.mp3\n",
       "4      new_age            Agnus_Dei--Enigma.mp3"
      ]
     },
     "execution_count": 111,
     "metadata": {},
     "output_type": "execute_result"
    }
   ],
   "source": [
    "fixed.head()"
   ]
  },
  {
   "cell_type": "code",
   "execution_count": 112,
   "metadata": {},
   "outputs": [],
   "source": [
    "data = fixed"
   ]
  },
  {
   "cell_type": "markdown",
   "metadata": {},
   "source": [
    "Теперь имеет смысл расправиться уже непосредственно с названиями жанров. "
   ]
  },
  {
   "cell_type": "code",
   "execution_count": 129,
   "metadata": {},
   "outputs": [],
   "source": [
    "for i in list(data.coarse_genre):\n",
    "    data.replace(i, i.lower(), inplace=True)\n",
    "    \n",
    "for i in list(data.coarse_genre):\n",
    "    if ' ' in i:\n",
    "        data.replace(i, i.replace(' ', '_'), inplace=True)\n",
    "    elif '-' in i:\n",
    "        data.replace(i, i.replace('-', '_'), inplace=True)\n",
    "    \n",
    "for i in set(data.coarse_genre):\n",
    "    if 'rock' in i:\n",
    "        data.coarse_genre.replace(i, \"rock\", inplace=True)\n",
    "    elif 'metal' in i:\n",
    "        data.coarse_genre.replace(i, \"metal\", inplace=True)\n",
    "    elif 'pop' in i:\n",
    "        data.coarse_genre.replace(i, \"pop\", inplace=True)\n",
    "    elif 'punk' in i:\n",
    "        data.coarse_genre.replace(i, \"punk\", inplace=True)\n",
    "        \n",
    "data.coarse_genre.replace(\"ethnic\", \"folk\", inplace=True)\n",
    "data.coarse_genre.replace(\"disco\", \"dance\", inplace=True)\n",
    "data.coarse_genre.replace(\"instrumental\", \"classic\", inplace=True)    \n",
    "data.coarse_genre.replace(\"orchestral\", \"classic\", inplace=True)  \n",
    "data.coarse_genre.replace(\"romance\", \"blues\", inplace=True)  \n",
    "data.coarse_genre.replace(\"art_song\", \"classic\", inplace=True)  \n",
    "data.coarse_genre.replace(\"alternative\", \"rock\", inplace=True)  \n",
    "data.coarse_genre.replace(\"punk\", \"rock\", inplace=True)\n",
    "data.replace(\"classics\", \"classic\", inplace=True)\n",
    "data.replace(\"rap\", \"hip_hop\", inplace=True)\n",
    "data.replace(\"electronica\", \"electronic\", inplace=True)\n",
    "data.replace(\"ethnic\", \"folk\", inplace=True)\n",
    "data.replace(\"orchestral\", \"classic\", inplace=True)\n",
    "data.replace(\"instrumental\", \"classic\", inplace=True)\n",
    "data.replace(\"disco\", \"dance\", inplace=True)"
   ]
  },
  {
   "cell_type": "code",
   "execution_count": 130,
   "metadata": {},
   "outputs": [
    {
     "data": {
      "image/png": "[encoded data removed]",
      "text/plain": [
       "<Figure size 1440x1080 with 1 Axes>"
      ]
     },
     "metadata": {},
     "output_type": "display_data"
    }
   ],
   "source": [
    "sns.set(rc={'figure.figsize':(20, 15)})\n",
    "sns.histplot(list(data.coarse_genre));"
   ]
  },
  {
   "cell_type": "code",
   "execution_count": 135,
   "metadata": {},
   "outputs": [
    {
     "name": "stdout",
     "output_type": "stream",
     "text": [
      "electronic\n",
      "rock\n",
      "pop\n",
      "hip_hop\n",
      "metal\n",
      "classic\n"
     ]
    }
   ],
   "source": [
    "for i in set(data.coarse_genre):\n",
    "    if len(data.query('coarse_genre == @i')) >= 20:\n",
    "        print(i)"
   ]
  },
  {
   "cell_type": "markdown",
   "metadata": {},
   "source": [
    "Мы можем увидеть только те жанры, для которых имеется больше 20 песен. Для дальнейшего анализа оставим только их."
   ]
  },
  {
   "cell_type": "code",
   "execution_count": 143,
   "metadata": {},
   "outputs": [],
   "source": [
    "data_20 = data.query('coarse_genre == \"rock\" | coarse_genre == \"classic\"\\\n",
    "                  | coarse_genre == \"electronic\" |coarse_genre == \"hip_hop\"\\\n",
    "                  | coarse_genre == \"metal\" | coarse_genre == \"pop\"')"
   ]
  },
  {
   "cell_type": "code",
   "execution_count": 146,
   "metadata": {},
   "outputs": [],
   "source": [
    "data_20 = data_20.rename(columns={'fixed_names':'song'})"
   ]
  },
  {
   "cell_type": "code",
   "execution_count": 147,
   "metadata": {},
   "outputs": [
    {
     "data": {
      "text/html": [
       "<div>\n",
       "<style scoped>\n",
       "    .dataframe tbody tr th:only-of-type {\n",
       "        vertical-align: middle;\n",
       "    }\n",
       "\n",
       "    .dataframe tbody tr th {\n",
       "        vertical-align: top;\n",
       "    }\n",
       "\n",
       "    .dataframe thead th {\n",
       "        text-align: right;\n",
       "    }\n",
       "</style>\n",
       "<table border=\"1\" class=\"dataframe\">\n",
       "  <thead>\n",
       "    <tr style=\"text-align: right;\">\n",
       "      <th></th>\n",
       "      <th>coarse_genre</th>\n",
       "      <th>song</th>\n",
       "    </tr>\n",
       "  </thead>\n",
       "  <tbody>\n",
       "    <tr>\n",
       "      <th>0</th>\n",
       "      <td>rock</td>\n",
       "      <td>7Horse--Answer_the_Bell.mp3</td>\n",
       "    </tr>\n",
       "    <tr>\n",
       "      <th>1</th>\n",
       "      <td>classic</td>\n",
       "      <td>A_Simple_Life--Brian_Crain.mp3</td>\n",
       "    </tr>\n",
       "    <tr>\n",
       "      <th>2</th>\n",
       "      <td>classic</td>\n",
       "      <td>Adagio_in_G_Minor--Albinoni.mp3</td>\n",
       "    </tr>\n",
       "    <tr>\n",
       "      <th>5</th>\n",
       "      <td>electronic</td>\n",
       "      <td>Alakazam!--Justice.mp3</td>\n",
       "    </tr>\n",
       "    <tr>\n",
       "      <th>6</th>\n",
       "      <td>electronic</td>\n",
       "      <td>Amanita--Hypnotic_Tribe.mp3</td>\n",
       "    </tr>\n",
       "    <tr>\n",
       "      <th>...</th>\n",
       "      <td>...</td>\n",
       "      <td>...</td>\n",
       "    </tr>\n",
       "    <tr>\n",
       "      <th>321</th>\n",
       "      <td>rock</td>\n",
       "      <td>Штуки--Анимация.mp3</td>\n",
       "    </tr>\n",
       "    <tr>\n",
       "      <th>322</th>\n",
       "      <td>rock</td>\n",
       "      <td>Электрослабость--Терентий.mp3</td>\n",
       "    </tr>\n",
       "    <tr>\n",
       "      <th>323</th>\n",
       "      <td>classic</td>\n",
       "      <td>Я_говорю_тебе_да--Зоя_Ященко_и_группа_Белая_Гв...</td>\n",
       "    </tr>\n",
       "    <tr>\n",
       "      <th>325</th>\n",
       "      <td>rock</td>\n",
       "      <td>Я_так_соскучился--Порнофильмы.mp3</td>\n",
       "    </tr>\n",
       "    <tr>\n",
       "      <th>326</th>\n",
       "      <td>hip_hop</td>\n",
       "      <td>Я_убью_себя--Слава_КПСС.mp3</td>\n",
       "    </tr>\n",
       "  </tbody>\n",
       "</table>\n",
       "<p>256 rows × 2 columns</p>\n",
       "</div>"
      ],
      "text/plain": [
       "    coarse_genre                                               song\n",
       "0           rock                        7Horse--Answer_the_Bell.mp3\n",
       "1        classic                     A_Simple_Life--Brian_Crain.mp3\n",
       "2        classic                    Adagio_in_G_Minor--Albinoni.mp3\n",
       "5     electronic                             Alakazam!--Justice.mp3\n",
       "6     electronic                        Amanita--Hypnotic_Tribe.mp3\n",
       "..           ...                                                ...\n",
       "321         rock                                Штуки--Анимация.mp3\n",
       "322         rock                      Электрослабость--Терентий.mp3\n",
       "323      classic  Я_говорю_тебе_да--Зоя_Ященко_и_группа_Белая_Гв...\n",
       "325         rock                  Я_так_соскучился--Порнофильмы.mp3\n",
       "326      hip_hop                        Я_убью_себя--Слава_КПСС.mp3\n",
       "\n",
       "[256 rows x 2 columns]"
      ]
     },
     "execution_count": 147,
     "metadata": {},
     "output_type": "execute_result"
    }
   ],
   "source": [
    "data_20"
   ]
  },
  {
   "cell_type": "markdown",
   "metadata": {},
   "source": [
    "Теперь в наших данных осталось только 256 песен из самых популярных жанров"
   ]
  },
  {
   "cell_type": "code",
   "execution_count": 150,
   "metadata": {},
   "outputs": [],
   "source": [
    "data_20.to_csv('genres_for_cluster.csv', index=False)"
   ]
  },
  {
   "cell_type": "markdown",
   "metadata": {},
   "source": [
    "Удалим песни, которых нет в таблице с данными"
   ]
  },
  {
   "cell_type": "code",
   "execution_count": 151,
   "metadata": {},
   "outputs": [],
   "source": [
    "names_from_data_test = [f for f in listdir('./data/') if isfile(join('./data/', f))]"
   ]
  },
  {
   "cell_type": "code",
   "execution_count": 154,
   "metadata": {},
   "outputs": [],
   "source": [
    "delete_list = []\n",
    "for i in names_from_data_test:\n",
    "    if i not in list(data_20.song):\n",
    "        delete_list.append(i)"
   ]
  },
  {
   "cell_type": "code",
   "execution_count": 156,
   "metadata": {},
   "outputs": [],
   "source": [
    "for i in delete_list:\n",
    "    os.remove(('./data/' + i))"
   ]
  },
  {
   "cell_type": "markdown",
   "metadata": {},
   "source": [
    "Таблица и папка с данными готовы для дальнейшей работы"
   ]
  }
 ],
 "metadata": {
  "kernelspec": {
   "display_name": "Python 3",
   "language": "python",
   "name": "python3"
  },
  "language_info": {
   "codemirror_mode": {
    "name": "ipython",
    "version": 3
   },
   "file_extension": ".py",
   "mimetype": "text/x-python",
   "name": "python",
   "nbconvert_exporter": "python",
   "pygments_lexer": "ipython3",
   "version": "3.8.5"
  }
 },
 "nbformat": 4,
 "nbformat_minor": 2
}
